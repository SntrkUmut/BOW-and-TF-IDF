{
 "cells": [
  {
   "cell_type": "code",
   "execution_count": 1,
   "id": "2f2f4a23",
   "metadata": {},
   "outputs": [],
   "source": [
    "from sklearn.feature_extraction.text import TfidfVectorizer\n",
    "import nltk\n",
    "import re\n",
    "import numpy as np\n",
    "from nltk.corpus import stopwords\n",
    "from nltk.tokenize import word_tokenize\n",
    "from nltk.stem import PorterStemmer"
   ]
  },
  {
   "cell_type": "code",
   "execution_count": 12,
   "id": "499d9de5",
   "metadata": {},
   "outputs": [
    {
     "name": "stdout",
     "output_type": "stream",
     "text": [
      "excis of limbal dermoid . we review the clinic file of 10 patient who had undergon excis of unilater\n"
     ]
    }
   ],
   "source": [
    "ps = PorterStemmer()\n",
    "with open(r\"C:\\Users\\Bunyamin\\Desktop\\NaturalLanguageProcessingwithMachineLearning\\input\\test.dat\") as fh:\n",
    "    train_lines = fh.readlines()\n",
    "a=''\n",
    "\n",
    "for ch in train_lines:\n",
    "    twords=word_tokenize(ch)\n",
    "    for w in twords:\n",
    "        a= a+ ps.stem(w)\n",
    "        a=a+' '\n",
    "        \n",
    "    \n",
    "print(a[0:100])\n"
   ]
  },
  {
   "cell_type": "code",
   "execution_count": 13,
   "id": "7828b71b",
   "metadata": {},
   "outputs": [
    {
     "name": "stdout",
     "output_type": "stream",
     "text": [
      "['excis', 'of', 'limbal', 'dermoid', '.', 'we', 'review', 'the', 'clinic', 'file', 'of', '10', 'patient', 'who', 'had', 'undergon', 'excis', 'of', 'unilater', 'epibulbar', 'limbal', 'dermoid', '.', 'preoper', ',', 'all', 'of', 'the', 'affect', 'eye']\n",
      "['excis', 'limbal', 'dermoid', '.', 'review', 'clinic', 'file', '10', 'patient', 'undergon', 'excis', 'unilater', 'epibulbar', 'limbal', 'dermoid', '.', 'preoper', ',', 'affect', 'eye', 'wors', 'visual', 'acuiti', '(', 'p', 'less', '.02', ')', 'astigmat', '(']\n"
     ]
    }
   ],
   "source": [
    "stop_words = set(stopwords.words('english'))\n",
    "  \n",
    "word_tokens = word_tokenize(a)\n",
    "  \n",
    "filtered_sentence = [w for w in word_tokens if not w.lower() in stop_words]\n",
    "  \n",
    "filtered_sentence = []\n",
    "  \n",
    "for w in word_tokens:\n",
    "    if w not in stop_words:\n",
    "        filtered_sentence.append(w)\n",
    "  \n",
    "print(word_tokens[0:30])\n",
    "print(filtered_sentence[0:30])"
   ]
  },
  {
   "cell_type": "code",
   "execution_count": 18,
   "id": "8c52e822",
   "metadata": {},
   "outputs": [],
   "source": [
    "dataset = nltk.sent_tokenize(a)\n",
    "for i in range(len(dataset)):\n",
    "    dataset[i] = dataset[i].lower()\n",
    "    dataset[i] = re.sub(r'\\W', ' ', dataset[i])\n",
    "    dataset[i] = re.sub(r'\\s+', ' ', dataset[i])\n",
    "\n"
   ]
  },
  {
   "cell_type": "code",
   "execution_count": 19,
   "id": "6450a1a6",
   "metadata": {},
   "outputs": [],
   "source": [
    "word2count = {}\n",
    "for data in dataset:\n",
    "    words = nltk.word_tokenize(data)\n",
    "    for word in words:\n",
    "        if word not in word2count.keys():\n",
    "            word2count[word] = 1\n",
    "        else:\n",
    "            word2count[word] += 1"
   ]
  },
  {
   "cell_type": "code",
   "execution_count": 20,
   "id": "6dc74b73",
   "metadata": {},
   "outputs": [],
   "source": [
    "import heapq\n",
    "freq_words = heapq.nlargest(100, word2count, key=word2count.get)"
   ]
  },
  {
   "cell_type": "code",
   "execution_count": 21,
   "id": "be6bee29",
   "metadata": {},
   "outputs": [],
   "source": [
    "X = []\n",
    "for data in dataset:\n",
    "    vector = []\n",
    "    for word in freq_words:\n",
    "        if word in nltk.word_tokenize(data):\n",
    "            vector.append(1)\n",
    "        else:\n",
    "            vector.append(0)\n",
    "    X.append(vector)\n",
    "X = np.asarray(X)"
   ]
  },
  {
   "cell_type": "code",
   "execution_count": 23,
   "id": "d3b441bc",
   "metadata": {},
   "outputs": [
    {
     "name": "stdout",
     "output_type": "stream",
     "text": [
      "[1 0 0 0 0 0 1 0 0 0 0 0 0 0 1 0 0 0 0 0 0 0 0 0 0 0 0 0 0 0 0 0 0 0 0 0 0\n",
      " 0 0 0 0 0 0 0 0 0 0 0 0 0 0 0 0 0 0 0 0 0 0 0 0 0 0 0 0 0 0 0 0 0 0 0 0 0\n",
      " 0 0 0 0 0 0 0 0 0 0 0 0 0 0 0 0 0 0 0 0 1 0 0 0 0 0]\n"
     ]
    }
   ],
   "source": [
    "print(X[10])"
   ]
  },
  {
   "cell_type": "code",
   "execution_count": null,
   "id": "83acaf18",
   "metadata": {},
   "outputs": [],
   "source": []
  }
 ],
 "metadata": {
  "kernelspec": {
   "display_name": "Python 3 (ipykernel)",
   "language": "python",
   "name": "python3"
  },
  "language_info": {
   "codemirror_mode": {
    "name": "ipython",
    "version": 3
   },
   "file_extension": ".py",
   "mimetype": "text/x-python",
   "name": "python",
   "nbconvert_exporter": "python",
   "pygments_lexer": "ipython3",
   "version": "3.9.12"
  }
 },
 "nbformat": 4,
 "nbformat_minor": 5
}
