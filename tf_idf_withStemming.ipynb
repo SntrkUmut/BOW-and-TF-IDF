{
 "cells": [
  {
   "cell_type": "code",
   "execution_count": 27,
   "id": "6d09c6d8",
   "metadata": {},
   "outputs": [],
   "source": [
    "from sklearn.feature_extraction.text import TfidfVectorizer\n",
    "import nltk\n",
    "import re\n",
    "import numpy as np\n",
    "from nltk.corpus import stopwords\n",
    "from nltk.tokenize import word_tokenize\n",
    "from nltk.stem import PorterStemmer"
   ]
  },
  {
   "cell_type": "code",
   "execution_count": 28,
   "id": "cbec1f80",
   "metadata": {},
   "outputs": [],
   "source": [
    "ps = PorterStemmer()\n",
    "with open(r\"C:\\Users\\Bunyamin\\Desktop\\NaturalLanguageProcessingwithMachineLearning\\input\\test.dat\") as fh:\n",
    "    train_lines = fh.readlines()\n",
    "\n",
    "a=''\n",
    "\n",
    "for ch in train_lines:\n",
    "    twords=word_tokenize(ch)\n",
    "    for w in twords:\n",
    "        a= a+ ps.stem(w)\n",
    "        a=a+' '\n",
    "        \n",
    "        \n",
    "b=a.split(\"\\n\")\n",
    "        \n",
    "a1=[]\n",
    "a2=[]\n",
    "a3=[]\n",
    "a4=[]\n",
    "a5=[]\n",
    "for li in range(len(b)-3):\n",
    "    if b[li][0]=='1':\n",
    "        a1.append(b[li])\n",
    "for li in range(len(b)-3):\n",
    "    if b[li][0]=='2':\n",
    "        a2.append(b[li])\n",
    "for li in range(len(b)-3):\n",
    "    if b[li][0]=='3':\n",
    "        a3.append(b[li])\n",
    "for li in range(len(b)-3):\n",
    "    if b[li][0]=='4':\n",
    "        a4.append(b[li])\n",
    "for li in range(len(b)-3):\n",
    "    if b[li][0]=='5':\n",
    "        a5.append(b[li])\n",
    "\n"
   ]
  },
  {
   "cell_type": "code",
   "execution_count": 29,
   "id": "141c0b62",
   "metadata": {},
   "outputs": [],
   "source": [
    "import pprint"
   ]
  },
  {
   "cell_type": "code",
   "execution_count": 32,
   "id": "88ea1ef7",
   "metadata": {},
   "outputs": [],
   "source": [
    "def Tf_idf(x):\n",
    "    # Create a set of frequent words\n",
    "    stoplist = set('for a of the and to in'.split(' '))\n",
    "    # Lowercase each document, split it by white space and filter out stopwords\n",
    "    texts = [[word for word in document.lower().split() if word not in stoplist]\n",
    "             for document in x]\n",
    "\n",
    "    # Count word frequencies\n",
    "    from collections import defaultdict\n",
    "    frequency = defaultdict(int)\n",
    "    for text in texts:\n",
    "        for token in text:\n",
    "            frequency[token] += 1\n",
    "\n",
    "    # Only keep words that appear more than once\n",
    "    processed_corpus = [[token for token in text if frequency[token] > 1] for text in texts]\n",
    "    #pprint.pprint(processed_corpus)\n",
    "    from gensim import corpora\n",
    "\n",
    "    dictionary = corpora.Dictionary(processed_corpus)\n",
    "    #print(dictionary)\n",
    "    bow_corpus = [dictionary.doc2bow(text) for text in processed_corpus]\n",
    "    from gensim import models\n",
    "\n",
    "    # train the model\n",
    "    tfidf = models.TfidfModel(bow_corpus)\n",
    "\n",
    "    # transform the \"system minors\" string\n",
    "    words = \"system minors\".lower().split()\n",
    "    print(tfidf[dictionary.doc2bow(words)])\n",
    "    from gensim import similarities\n",
    "\n",
    "    index = similarities.SparseMatrixSimilarity(tfidf[bow_corpus], num_features=1000)\n",
    "    with open(r\"C:\\Users\\Bunyamin\\Desktop\\NaturalLanguageProcessingwithMachineLearning\\input\\test.dat\") as fh:\n",
    "        train_lines = fh.readlines()\n",
    "    query_document = train_lines[0].split()\n",
    "    query_bow = dictionary.doc2bow(query_document)\n",
    "    sims = index[tfidf[query_bow]]\n",
    "    #print(list(enumerate(sims)))"
   ]
  },
  {
   "cell_type": "code",
   "execution_count": 33,
   "id": "4865b5b6",
   "metadata": {},
   "outputs": [
    {
     "name": "stdout",
     "output_type": "stream",
     "text": [
      "[]\n"
     ]
    }
   ],
   "source": [
    "Tf_idf(a1) "
   ]
  },
  {
   "cell_type": "code",
   "execution_count": null,
   "id": "a3cce2ea",
   "metadata": {},
   "outputs": [],
   "source": []
  }
 ],
 "metadata": {
  "kernelspec": {
   "display_name": "Python 3 (ipykernel)",
   "language": "python",
   "name": "python3"
  },
  "language_info": {
   "codemirror_mode": {
    "name": "ipython",
    "version": 3
   },
   "file_extension": ".py",
   "mimetype": "text/x-python",
   "name": "python",
   "nbconvert_exporter": "python",
   "pygments_lexer": "ipython3",
   "version": "3.9.12"
  }
 },
 "nbformat": 4,
 "nbformat_minor": 5
}
