{
 "cells": [
  {
   "cell_type": "code",
   "execution_count": 3,
   "id": "c540c8da",
   "metadata": {},
   "outputs": [],
   "source": [
    "with open(r\"C:\\Users\\Bunyamin\\Desktop\\NaturalLanguageProcessingwithMachineLearning\\input\\train.dat\") as fh:\n",
    "    train_lines = fh.readlines()"
   ]
  },
  {
   "cell_type": "code",
   "execution_count": 4,
   "id": "0d19f3ce",
   "metadata": {},
   "outputs": [
    {
     "name": "stdout",
     "output_type": "stream",
     "text": [
      "\n"
     ]
    }
   ],
   "source": [
    "\n",
    "a=\"\"\n",
    "print(a)\n",
    "for ln in train_lines:\n",
    "    a=a+ln\n",
    "b=a.split(\"\\n\")\n",
    "\n",
    "\n",
    "\n",
    "\n",
    "\n",
    "\n",
    "    "
   ]
  },
  {
   "cell_type": "code",
   "execution_count": 5,
   "id": "83467333",
   "metadata": {},
   "outputs": [],
   "source": [
    "a1=[]\n",
    "a2=[]\n",
    "a3=[]\n",
    "a4=[]\n",
    "a5=[]\n",
    "for li in range(len(b)-3):\n",
    "    if b[li][0]=='1':\n",
    "        a1.append(b[li])\n",
    "for li in range(len(b)-3):\n",
    "    if b[li][0]=='2':\n",
    "        a2.append(b[li])\n",
    "for li in range(len(b)-3):\n",
    "    if b[li][0]=='3':\n",
    "        a3.append(b[li])\n",
    "for li in range(len(b)-3):\n",
    "    if b[li][0]=='4':\n",
    "        a4.append(b[li])\n",
    "for li in range(len(b)-3):\n",
    "    if b[li][0]=='5':\n",
    "        a5.append(b[li])\n",
    "\n",
    "        \n",
    "    "
   ]
  },
  {
   "cell_type": "code",
   "execution_count": 6,
   "id": "b10c9dd2",
   "metadata": {
    "scrolled": false
   },
   "outputs": [],
   "source": [
    "import pprint\n",
    "\n",
    "    \n",
    "            "
   ]
  },
  {
   "cell_type": "code",
   "execution_count": 7,
   "id": "732e9e66",
   "metadata": {},
   "outputs": [],
   "source": [
    "def Tf_idf(x):\n",
    "    # Create a set of frequent words\n",
    "    stoplist = set('for a of the and to in'.split(' '))\n",
    "    # Lowercase each document, split it by white space and filter out stopwords\n",
    "    texts = [[word for word in document.lower().split() if word not in stoplist]\n",
    "             for document in x]\n",
    "\n",
    "    # Count word frequencies\n",
    "    from collections import defaultdict\n",
    "    frequency = defaultdict(int)\n",
    "    for text in texts:\n",
    "        for token in text:\n",
    "            frequency[token] += 1\n",
    "\n",
    "    # Only keep words that appear more than once\n",
    "    processed_corpus = [[token for token in text if frequency[token] > 1] for text in texts]\n",
    "    #pprint.pprint(processed_corpus)\n",
    "    from gensim import corpora\n",
    "\n",
    "    dictionary = corpora.Dictionary(processed_corpus)\n",
    "    #print(dictionary)\n",
    "    bow_corpus = [dictionary.doc2bow(text) for text in processed_corpus]\n",
    "    from gensim import models\n",
    "\n",
    "    # train the model\n",
    "    tfidf = models.TfidfModel(bow_corpus)\n",
    "\n",
    "    # transform the \"system minors\" string\n",
    "    words = \"system minors\".lower().split()\n",
    "    print(tfidf[dictionary.doc2bow(words)])\n",
    "    from gensim import similarities\n",
    "\n",
    "    index = similarities.SparseMatrixSimilarity(tfidf[bow_corpus], num_features=1000)\n",
    "    with open(r\"C:\\Users\\Bunyamin\\Desktop\\NaturalLanguageProcessingwithMachineLearning\\input\\test.dat\") as fh:\n",
    "        train_lines = fh.readlines()\n",
    "    query_document = train_lines[0].split()\n",
    "    query_bow = dictionary.doc2bow(query_document)\n",
    "    sims = index[tfidf[query_bow]]\n",
    "    #print(list(enumerate(sims)))"
   ]
  },
  {
   "cell_type": "code",
   "execution_count": null,
   "id": "034796b8",
   "metadata": {},
   "outputs": [
    {
     "name": "stdout",
     "output_type": "stream",
     "text": [
      "[(2819, 1.0)]\n"
     ]
    }
   ],
   "source": [
    "Tf_idf(a1) \n",
    "\n",
    "\n",
    " "
   ]
  },
  {
   "cell_type": "code",
   "execution_count": 86,
   "id": "69ef7345",
   "metadata": {},
   "outputs": [],
   "source": []
  },
  {
   "cell_type": "code",
   "execution_count": null,
   "id": "9e11a913",
   "metadata": {},
   "outputs": [],
   "source": []
  }
 ],
 "metadata": {
  "kernelspec": {
   "display_name": "Python 3 (ipykernel)",
   "language": "python",
   "name": "python3"
  },
  "language_info": {
   "codemirror_mode": {
    "name": "ipython",
    "version": 3
   },
   "file_extension": ".py",
   "mimetype": "text/x-python",
   "name": "python",
   "nbconvert_exporter": "python",
   "pygments_lexer": "ipython3",
   "version": "3.9.12"
  }
 },
 "nbformat": 4,
 "nbformat_minor": 5
}
